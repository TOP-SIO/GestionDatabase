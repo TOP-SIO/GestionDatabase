{
 "cells": [
  {
   "cell_type": "markdown",
   "metadata": {},
   "source": [
    "## Schéma\n",
    "#### Collection Membre \n",
    "    Clé :\n",
    "    - Nom \n",
    "    - Prenom\n",
    "    - Mail\n",
    "    - Poste\n",
    "    - Projet lié(s)\n",
    "    - Tache lié(s)\n",
    "\n",
    "### Collection Tache\n",
    "    Clé :\n",
    "    - Nom Tache\n",
    "    - Déscription\n",
    "    - Durée\n",
    "    - Statut\n",
    "    - Projet lié\n",
    "    - Membre(s) lié(s)\n",
    "\n",
    "### Colletion Projet\n",
    "    Clé :\n",
    "    - Nom Projet\n",
    "    - Membre(s) lié(s)\n",
    "    - Durée\n",
    "    - Déscription\n",
    "    \n",
    "# A Faire :\n",
    "## Membre \n",
    "    Renvoie toutes les données d'un membre à partir de son mail"
   ]
  },
  {
   "cell_type": "code",
   "execution_count": 62,
   "metadata": {},
   "outputs": [],
   "source": [
    "from pymongo import MongoClient"
   ]
  },
  {
   "cell_type": "code",
   "execution_count": 63,
   "metadata": {},
   "outputs": [],
   "source": [
    "def connexion():\n",
    "    try : \n",
    "        global client\n",
    "        client = MongoClient('localhost', 27017)\n",
    "        \n",
    "    except Exception as e:\n",
    "        print(f\"Erreur : {e}\")"
   ]
  },
  {
   "cell_type": "code",
   "execution_count": 64,
   "metadata": {},
   "outputs": [],
   "source": [
    "def create_member(first_name, last_name, poste, mail):\n",
    "    membre = {\"Nom\": last_name, \"Prenom\" : first_name, \"Poste\" : poste, \"Mail\" : mail, \"Projets\" : [] , \"Taches\" : []}\n",
    "    db = client['Gestion_Projet']\n",
    "    global collection\n",
    "    collection = db['Membre']\n",
    "    insert_member = collection.insert_one(membre)\n",
    "    # print(f\"{insert_member.inserted_id}\")\n",
    "    return insert_member.inserted_id"
   ]
  },
  {
   "cell_type": "code",
   "execution_count": 76,
   "metadata": {},
   "outputs": [
    {
     "data": {
      "text/plain": [
       "'Mail_1'"
      ]
     },
     "execution_count": 76,
     "metadata": {},
     "output_type": "execute_result"
    }
   ],
   "source": [
    "connexion()\n",
    "collection.create_index(\"Mail\", unique=True)\n"
   ]
  },
  {
   "cell_type": "code",
   "execution_count": 128,
   "metadata": {},
   "outputs": [
    {
     "data": {
      "text/plain": [
       "ObjectId('653a0d88b5e8fb35b69ca882')"
      ]
     },
     "execution_count": 128,
     "metadata": {},
     "output_type": "execute_result"
    }
   ],
   "source": [
    "input_mail = \"gstyskal@aforp.eu\"\n",
    "input_nom = \"STYSKAL\"\n",
    "input_prenom = \"Gaëtan\"\n",
    "input_poste = \"Dev\"\n",
    "# create_member(input_nom, input_prenom, input_poste, input_mail)"
   ]
  },
  {
   "cell_type": "code",
   "execution_count": 82,
   "metadata": {},
   "outputs": [],
   "source": [
    "def check_member_mail_id(mail):\n",
    "    try:\n",
    "        resultat = collection.find_one({\"Mail\":mail})\n",
    "        return resultat[\"_id\"]\n",
    "            \n",
    "    except Exception as e:\n",
    "        print(f\"Erreur : {e}\")"
   ]
  },
  {
   "cell_type": "code",
   "execution_count": 83,
   "metadata": {},
   "outputs": [],
   "source": [
    "def check_member_mail_nom(mail):\n",
    "    try:\n",
    "        resultat = collection.find_one({\"Mail\":mail})\n",
    "        return resultat[\"Nom\"]\n",
    "            \n",
    "    except Exception as e:\n",
    "        print(f\"Erreur : {e}\")"
   ]
  },
  {
   "cell_type": "code",
   "execution_count": 84,
   "metadata": {},
   "outputs": [],
   "source": [
    "def check_member_mail_prenom(mail):\n",
    "    try:\n",
    "        resultat = collection.find_one({\"Mail\":mail})\n",
    "        return resultat[\"Prenom\"]\n",
    "            \n",
    "    except Exception as e:\n",
    "        print(f\"Erreur : {e}\")"
   ]
  },
  {
   "cell_type": "code",
   "execution_count": 88,
   "metadata": {},
   "outputs": [],
   "source": [
    "def check_member_mail_poste(mail):\n",
    "    try:\n",
    "        resultat = collection.find_one({\"Mail\":mail})\n",
    "        return resultat[\"Poste\"]\n",
    "            \n",
    "    except Exception as e:\n",
    "        print(f\"Erreur : {e}\")"
   ]
  },
  {
   "cell_type": "code",
   "execution_count": 121,
   "metadata": {},
   "outputs": [],
   "source": [
    "def check_member_mail_task(mail):\n",
    "    try:\n",
    "        resultat = collection.find_one({\"Mail\":mail})\n",
    "        return resultat[\"Taches\"]\n",
    "            \n",
    "    except Exception as e:\n",
    "        print(f\"Erreur : {e}\")"
   ]
  },
  {
   "cell_type": "code",
   "execution_count": 86,
   "metadata": {},
   "outputs": [],
   "source": [
    "def check_member_mail_project(mail):\n",
    "    try:\n",
    "        resultat = collection.find_one({\"Mail\":mail})\n",
    "        return resultat[\"Projets\"]\n",
    "            \n",
    "    except Exception as e:\n",
    "        print(f\"Erreur : {e}\")"
   ]
  },
  {
   "cell_type": "code",
   "execution_count": 129,
   "metadata": {},
   "outputs": [
    {
     "name": "stdout",
     "output_type": "stream",
     "text": [
      "653a0d88b5e8fb35b69ca882\n",
      "Gaëtan\n",
      "STYSKAL\n",
      "Dev\n",
      "[]\n",
      "[]\n"
     ]
    }
   ],
   "source": [
    "print(check_member_mail_id(input_mail))\n",
    "print(check_member_mail_nom(input_mail))\n",
    "print(check_member_mail_prenom(input_mail))\n",
    "print(check_member_mail_poste(input_mail))\n",
    "print(check_member_mail_project(input_mail))\n",
    "print(check_member_mail_task(input_mail))\n"
   ]
  },
  {
   "cell_type": "code",
   "execution_count": 123,
   "metadata": {},
   "outputs": [],
   "source": [
    "def set_member_update_task(input_mail):\n",
    "    try:\n",
    "        filter = { 'Mail': input_mail }\n",
    "        newvalues = { \"$push\": { 'Taches': \"65391503b5e8fb35b69ca91d\" } } \n",
    "        update_task = collection.update_one(filter, newvalues) \n",
    "        return update_task.modified_count\n",
    "    \n",
    "    except Exception as e:\n",
    "        print(f\"Erreur : {e}\")"
   ]
  },
  {
   "cell_type": "code",
   "execution_count": 125,
   "metadata": {},
   "outputs": [
    {
     "name": "stdout",
     "output_type": "stream",
     "text": [
      "liste de tache est vide\n",
      "liste de projet est vide\n"
     ]
    }
   ],
   "source": [
    "if len(check_member_mail_task(input_mail)) == 0 :\n",
    "    print(\"liste de tache est vide\")\n",
    "    set_member_update_task(input_mail)\n",
    "\n",
    "if len(check_member_mail_project(input_mail)) == 0 :\n",
    "    print(\"liste de projet est vide\")"
   ]
  },
  {
   "cell_type": "code",
   "execution_count": 126,
   "metadata": {},
   "outputs": [],
   "source": [
    "def delete_member(input_mail):\n",
    "    try:\n",
    "        filtre_member = {'Mail' : input_mail}\n",
    "        delete = collection.find_one_and_delete(filtre_member, projection = None, sort = None)\n",
    "        return delete\n",
    "    \n",
    "    except Exception as e:\n",
    "        print(f\"Erreur : {e}\")"
   ]
  },
  {
   "cell_type": "code",
   "execution_count": 127,
   "metadata": {},
   "outputs": [
    {
     "name": "stdout",
     "output_type": "stream",
     "text": [
      "{'_id': ObjectId('65390f87b5e8fb35b69ca873'), 'Nom': 'STYSKAL', 'Prenom': 'Gaëtan', 'Poste': 'Développeur', 'Mail': 'gstyskal@aforp.eu', 'Projets': [], 'Taches': []}\n"
     ]
    }
   ],
   "source": [
    "print(delete_member(input_mail))"
   ]
  }
 ],
 "metadata": {
  "kernelspec": {
   "display_name": "Python 3",
   "language": "python",
   "name": "python3"
  },
  "language_info": {
   "codemirror_mode": {
    "name": "ipython",
    "version": 3
   },
   "file_extension": ".py",
   "mimetype": "text/x-python",
   "name": "python",
   "nbconvert_exporter": "python",
   "pygments_lexer": "ipython3",
   "version": "3.12.0"
  }
 },
 "nbformat": 4,
 "nbformat_minor": 2
}
