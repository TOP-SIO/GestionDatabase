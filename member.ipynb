{
 "cells": [
  {
   "cell_type": "code",
   "execution_count": 18,
   "metadata": {},
   "outputs": [],
   "source": [
    "from pymongo import MongoClient\n",
    "from bson import ObjectId"
   ]
  },
  {
   "cell_type": "code",
   "execution_count": 2,
   "metadata": {},
   "outputs": [],
   "source": [
    "def connexion():\n",
    "    try : \n",
    "        global client\n",
    "        client = MongoClient('localhost', 27017)\n",
    "        db = client['Gestion_Projet']\n",
    "        global collection\n",
    "        collection = db['Membre']\n",
    "        \n",
    "    except Exception as e:\n",
    "        print(f\"Erreur : {e}\")"
   ]
  },
  {
   "cell_type": "code",
   "execution_count": 31,
   "metadata": {},
   "outputs": [],
   "source": [
    "class Membre :\n",
    "    \"\"\"Classe Membre\"\"\"\n",
    "    nom = \"\"\n",
    "    prenom = \"\"\n",
    "    mail = \"\"\n",
    "    poste = \"\"\n",
    "    projet = []\n",
    "    tache = []\n",
    "    \n",
    "    def __init__(self,first_name, last_name, poste, mail):\n",
    "        self.nom = last_name\n",
    "        self.prenom = first_name\n",
    "        self.poste = poste\n",
    "        self.mail = mail\n",
    "        self.projet = []\n",
    "        self.tache = []\n",
    "    \n",
    "    def get_nom(self):\n",
    "        return self.nom\n",
    "    \n",
    "    def get_prenom(self):\n",
    "        return self.prenom\n",
    "    \n",
    "    def get_mail(self):\n",
    "        return self.mail\n",
    "    \n",
    "    def get_poste(self):\n",
    "        return self.poste\n",
    "    \n",
    "    def get_projet(self):\n",
    "        return self.projet\n",
    "    \n",
    "    def get_tache(self):\n",
    "        return self.tache\n",
    "    "
   ]
  },
  {
   "cell_type": "code",
   "execution_count": 44,
   "metadata": {},
   "outputs": [],
   "source": [
    "def insert_member(nouveau_membre):\n",
    "    member_class = nouveau_membre\n",
    "    nouveau_prenom = member_class.get_prenom()\n",
    "    nouveau_nom = member_class.get_nom()\n",
    "    nouveau_mail = member_class.get_mail()\n",
    "    nouveau_poste = member_class.get_poste()\n",
    "    nouveau_projet = member_class.get_projet()\n",
    "    nouveau_tache = member_class.get_tache()\n",
    "    membre = {\"Nom\": nouveau_nom, \"Prenom\" : nouveau_prenom, \"Poste\" : nouveau_poste, \"Mail\" : nouveau_mail, \"Projets\" : nouveau_projet , \"Taches\" : nouveau_tache}\n",
    "    insert_member_db = collection.insert_one(membre)\n",
    "    # print(f\"{insert_member.inserted_id}\")\n",
    "    return insert_member_db.inserted_id"
   ]
  },
  {
   "cell_type": "code",
   "execution_count": 45,
   "metadata": {},
   "outputs": [
    {
     "name": "stdout",
     "output_type": "stream",
     "text": [
      "653a3ea2c5d682c609ace30c\n"
     ]
    }
   ],
   "source": [
    "nouveau_membre = Membre(first_name=\"Martha\", last_name=\"GONZALEZ\", poste=\"CHEF\", mail=\"martha@gonzalez.com\")\n",
    "nouveau_id = insert_member(nouveau_membre)\n",
    "print(nouveau_id)"
   ]
  },
  {
   "cell_type": "code",
   "execution_count": 4,
   "metadata": {},
   "outputs": [
    {
     "data": {
      "text/plain": [
       "'Mail_1'"
      ]
     },
     "execution_count": 4,
     "metadata": {},
     "output_type": "execute_result"
    }
   ],
   "source": [
    "connexion()\n",
    "collection.create_index(\"Mail\", unique=True)\n"
   ]
  },
  {
   "cell_type": "code",
   "execution_count": 46,
   "metadata": {},
   "outputs": [],
   "source": [
    "input_mail = \"gstyskal@aforp.eu\"\n",
    "input_nom = \"STYSKAL\"\n",
    "input_prenom = \"Gaëtan\"\n",
    "input_poste = \"Dev\""
   ]
  },
  {
   "cell_type": "code",
   "execution_count": 7,
   "metadata": {},
   "outputs": [],
   "source": [
    "def get_member_id_by_mail(mail):\n",
    "    try:\n",
    "        resultat = collection.find_one({\"Mail\":mail})\n",
    "        return resultat[\"_id\"]\n",
    "            \n",
    "    except Exception as e:\n",
    "        print(f\"Erreur : {e}\")"
   ]
  },
  {
   "cell_type": "code",
   "execution_count": 8,
   "metadata": {},
   "outputs": [],
   "source": [
    "def get_member_nom_by_mail(mail):\n",
    "    try:\n",
    "        resultat = collection.find_one({\"Mail\":mail})\n",
    "        return resultat[\"Nom\"]\n",
    "            \n",
    "    except Exception as e:\n",
    "        print(f\"Erreur : {e}\")"
   ]
  },
  {
   "cell_type": "code",
   "execution_count": 9,
   "metadata": {},
   "outputs": [],
   "source": [
    "def get_member_prenom_by_mail(mail):\n",
    "    try:\n",
    "        resultat = collection.find_one({\"Mail\":mail})\n",
    "        return resultat[\"Prenom\"]\n",
    "            \n",
    "    except Exception as e:\n",
    "        print(f\"Erreur : {e}\")"
   ]
  },
  {
   "cell_type": "code",
   "execution_count": 10,
   "metadata": {},
   "outputs": [],
   "source": [
    "def get_member_poste_by_mail(mail):\n",
    "    try:\n",
    "        resultat = collection.find_one({\"Mail\":mail})\n",
    "        return resultat[\"Poste\"]\n",
    "            \n",
    "    except Exception as e:\n",
    "        print(f\"Erreur : {e}\")"
   ]
  },
  {
   "cell_type": "code",
   "execution_count": 11,
   "metadata": {},
   "outputs": [],
   "source": [
    "def get_member_task_by_mail(mail):\n",
    "    try:\n",
    "        resultat = collection.find_one({\"Mail\":mail})\n",
    "        return resultat[\"Taches\"]\n",
    "            \n",
    "    except Exception as e:\n",
    "        print(f\"Erreur : {e}\")"
   ]
  },
  {
   "cell_type": "code",
   "execution_count": 12,
   "metadata": {},
   "outputs": [],
   "source": [
    "def get_member_project_by_mail(mail):\n",
    "    try:\n",
    "        resultat = collection.find_one({\"Mail\":mail})\n",
    "        return resultat[\"Projets\"]\n",
    "            \n",
    "    except Exception as e:\n",
    "        print(f\"Erreur : {e}\")"
   ]
  },
  {
   "cell_type": "code",
   "execution_count": 27,
   "metadata": {},
   "outputs": [],
   "source": [
    "def get_member_by_mail(mail):\n",
    "    try:\n",
    "        resultat = collection.find_one({\"Mail\":mail})\n",
    "        return resultat\n",
    "            \n",
    "    except Exception as e:\n",
    "        print(f\"Erreur : {e}\")"
   ]
  },
  {
   "cell_type": "code",
   "execution_count": 28,
   "metadata": {},
   "outputs": [
    {
     "name": "stdout",
     "output_type": "stream",
     "text": [
      "653a0d88b5e8fb35b69ca882\n",
      "Gaëtan\n",
      "STYSKAL\n",
      "Dev\n",
      "[ObjectId('653a22c7c5d682c609ace305')]\n",
      "[ObjectId('653a22c7c5d682c609ace306')]\n",
      "{'_id': ObjectId('653a0d88b5e8fb35b69ca882'), 'Nom': 'Gaëtan', 'Prenom': 'STYSKAL', 'Poste': 'Dev', 'Mail': 'gstyskal@aforp.eu', 'Projets': [ObjectId('653a22c7c5d682c609ace306')], 'Taches': [ObjectId('653a22c7c5d682c609ace305')]}\n"
     ]
    }
   ],
   "source": [
    "print(get_member_id_by_mail(input_mail))\n",
    "print(get_member_nom_by_mail(input_mail))\n",
    "print(get_member_prenom_by_mail(input_mail))\n",
    "print(get_member_poste_by_mail(input_mail))\n",
    "print(get_member_task_by_mail(input_mail))\n",
    "print(get_member_project_by_mail(input_mail))\n",
    "print(get_member_by_mail(input_mail))"
   ]
  },
  {
   "cell_type": "code",
   "execution_count": 26,
   "metadata": {},
   "outputs": [],
   "source": [
    "def set_member_update_task(self,tache_id):\n",
    "    #cette fonction recoit l'id d'une tache à ajouter au membre\n",
    "    self.tache.append(tache_id)\n",
    "    try:\n",
    "        filter = { 'Mail': self.mail }\n",
    "        newvalues = { \"$push\": { 'Taches': tache_id} } \n",
    "        update_task = collection.update_one(filter, newvalues) \n",
    "        return update_task.modified_count\n",
    "    \n",
    "    except Exception as e:\n",
    "        print(f\"Erreur : {e}\")"
   ]
  },
  {
   "cell_type": "code",
   "execution_count": 25,
   "metadata": {},
   "outputs": [],
   "source": [
    "def set_member_update_project(self,projet_id):\n",
    "    #cette fonction recoit l'id du projet à ajouter au membre\n",
    "    self.projet.append(projet_id)\n",
    "    try:\n",
    "        filter = { 'Mail': self.mail }\n",
    "        newvalues = { \"$push\": { 'Projets': projet_id} } \n",
    "        update_task = collection.update_one(filter, newvalues) \n",
    "        return update_task.modified_count\n",
    "    \n",
    "    except Exception as e:\n",
    "        print(f\"Erreur : {e}\")"
   ]
  },
  {
   "cell_type": "code",
   "execution_count": 48,
   "metadata": {},
   "outputs": [],
   "source": [
    "if len(get_member_task_by_mail(input_mail)) == 0 :\n",
    "    print(\"liste de tache est vide\")\n",
    "    # set_member_update_task(tache_id=\"653a22c7c5d682c609ace305\")\n",
    "\n",
    "if len(get_member_project_by_mail(input_mail)) == 0 :\n",
    "    print(\"liste de projet est vide\")\n",
    "    # set_member_update_project()"
   ]
  },
  {
   "cell_type": "code",
   "execution_count": 16,
   "metadata": {},
   "outputs": [],
   "source": [
    "def delete_member(input_mail):\n",
    "    try:\n",
    "        filtre_member = {'Mail' : input_mail}\n",
    "        delete = collection.find_one_and_delete(filtre_member, projection = None, sort = None)\n",
    "        return delete\n",
    "    \n",
    "    except Exception as e:\n",
    "        print(f\"Erreur : {e}\")"
   ]
  },
  {
   "cell_type": "code",
   "execution_count": 17,
   "metadata": {},
   "outputs": [],
   "source": [
    "# print(delete_member(input_mail))"
   ]
  },
  {
   "cell_type": "code",
   "execution_count": null,
   "metadata": {},
   "outputs": [],
   "source": []
  }
 ],
 "metadata": {
  "kernelspec": {
   "display_name": "Python 3",
   "language": "python",
   "name": "python3"
  },
  "language_info": {
   "codemirror_mode": {
    "name": "ipython",
    "version": 3
   },
   "file_extension": ".py",
   "mimetype": "text/x-python",
   "name": "python",
   "nbconvert_exporter": "python",
   "pygments_lexer": "ipython3",
   "version": "3.12.0"
  }
 },
 "nbformat": 4,
 "nbformat_minor": 2
}
