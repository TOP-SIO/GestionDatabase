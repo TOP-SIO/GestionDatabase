{
 "cells": [
  {
   "cell_type": "markdown",
   "metadata": {},
   "source": [
    "## Schéma\n",
    "#### Collection Membre \n",
    "    Clé :\n",
    "    - Nom \n",
    "    - Prenom\n",
    "    - Mail\n",
    "    - Poste\n",
    "    - Projet lié(s)\n",
    "    - Tache lié(s)\n",
    "\n",
    "### Collection Tache\n",
    "    Clé :\n",
    "    - Nom Tache\n",
    "    - Déscription\n",
    "    - Durée\n",
    "    - Statut\n",
    "    - Projet lié\n",
    "    - Membre(s) lié(s)\n",
    "\n",
    "### Colletion Projet\n",
    "    Clé :\n",
    "    - Nom Projet\n",
    "    - Membre(s) lié(s)\n",
    "    - Durée\n",
    "    - Déscription\n",
    "    \n",
    "# A Faire :\n",
    "## Membre \n",
    "    Renvoie toutes les données d'un membre à partir de son mail"
   ]
  },
  {
   "cell_type": "code",
   "execution_count": null,
   "metadata": {},
   "outputs": [],
   "source": [
    "from pymongo import MongoClient"
   ]
  },
  {
   "cell_type": "code",
   "execution_count": null,
   "metadata": {},
   "outputs": [],
   "source": [
    "def connexion():\n",
    "    try : \n",
    "        global client\n",
    "        client = MongoClient('localhost', 27017)\n",
    "        db = client['Gestion_Projet']\n",
    "        global collection\n",
    "        collection = db['Membre']\n",
    "        \n",
    "    except Exception as e:\n",
    "        print(f\"Erreur : {e}\")"
   ]
  },
  {
   "cell_type": "code",
   "execution_count": 23,
   "metadata": {},
   "outputs": [],
   "source": [
    "def __init__(self,first_name, last_name, poste, mail):\n",
    "    self.nom = last_name\n",
    "    self.prenom = first_name\n",
    "    self.poste = poste\n",
    "    self.mail = mail\n",
    "    self.projet = []\n",
    "    self.tache = []\n",
    "    membre = {\"Nom\": self.nom, \"Prenom\" : self.prenom, \"Poste\" : self.poste, \"Mail\" : self.mail, \"Projets\" : self.projet , \"Taches\" : self.tache}\n",
    "    insert_member = collection.insert_one(membre)\n",
    "    # print(f\"{insert_member.inserted_id}\")\n",
    "    return insert_member.inserted_id"
   ]
  },
  {
   "cell_type": "code",
   "execution_count": null,
   "metadata": {},
   "outputs": [],
   "source": [
    "connexion()\n",
    "collection.create_index(\"Mail\", unique=True)\n"
   ]
  },
  {
   "cell_type": "code",
   "execution_count": 24,
   "metadata": {},
   "outputs": [],
   "source": [
    "class Membre :\n",
    "    \"\"\"Classe Membre\"\"\"\n",
    "    nom = \"\"\n",
    "    prenom = \"\"\n",
    "    mail = \"\"\n",
    "    poste = \"\"\n",
    "    projet = []\n",
    "    tache = []"
   ]
  },
  {
   "cell_type": "code",
   "execution_count": null,
   "metadata": {},
   "outputs": [],
   "source": [
    "input_mail = \"gstyskal@aforp.eu\"\n",
    "input_nom = \"STYSKAL\"\n",
    "input_prenom = \"Gaëtan\"\n",
    "input_poste = \"Dev\"\n",
    "# create_member(input_nom, input_prenom, input_poste, input_mail)"
   ]
  },
  {
   "cell_type": "code",
   "execution_count": 32,
   "metadata": {},
   "outputs": [],
   "source": [
    "def get_member_id_by_mail(mail):\n",
    "    try:\n",
    "        resultat = collection.find_one({\"Mail\":mail})\n",
    "        return resultat[\"_id\"]\n",
    "            \n",
    "    except Exception as e:\n",
    "        print(f\"Erreur : {e}\")"
   ]
  },
  {
   "cell_type": "code",
   "execution_count": 31,
   "metadata": {},
   "outputs": [],
   "source": [
    "def get_member_nom_by_mail(mail):\n",
    "    try:\n",
    "        resultat = collection.find_one({\"Mail\":mail})\n",
    "        return resultat[\"Nom\"]\n",
    "            \n",
    "    except Exception as e:\n",
    "        print(f\"Erreur : {e}\")"
   ]
  },
  {
   "cell_type": "code",
   "execution_count": 30,
   "metadata": {},
   "outputs": [],
   "source": [
    "def get_member_prenom_by_mail(mail):\n",
    "    try:\n",
    "        resultat = collection.find_one({\"Mail\":mail})\n",
    "        return resultat[\"Prenom\"]\n",
    "            \n",
    "    except Exception as e:\n",
    "        print(f\"Erreur : {e}\")"
   ]
  },
  {
   "cell_type": "code",
   "execution_count": 29,
   "metadata": {},
   "outputs": [],
   "source": [
    "def get_member_poste_by_mail(mail):\n",
    "    try:\n",
    "        resultat = collection.find_one({\"Mail\":mail})\n",
    "        return resultat[\"Poste\"]\n",
    "            \n",
    "    except Exception as e:\n",
    "        print(f\"Erreur : {e}\")"
   ]
  },
  {
   "cell_type": "code",
   "execution_count": 28,
   "metadata": {},
   "outputs": [],
   "source": [
    "def get_member_task_by_mail(mail):\n",
    "    try:\n",
    "        resultat = collection.find_one({\"Mail\":mail})\n",
    "        return resultat[\"Taches\"]\n",
    "            \n",
    "    except Exception as e:\n",
    "        print(f\"Erreur : {e}\")"
   ]
  },
  {
   "cell_type": "code",
   "execution_count": 27,
   "metadata": {},
   "outputs": [],
   "source": [
    "def get_member_project_by_mail(mail):\n",
    "    try:\n",
    "        resultat = collection.find_one({\"Mail\":mail})\n",
    "        return resultat[\"Projets\"]\n",
    "            \n",
    "    except Exception as e:\n",
    "        print(f\"Erreur : {e}\")"
   ]
  },
  {
   "cell_type": "code",
   "execution_count": 33,
   "metadata": {},
   "outputs": [
    {
     "name": "stdout",
     "output_type": "stream",
     "text": [
      "653a0d88b5e8fb35b69ca882\n",
      "Gaëtan\n",
      "STYSKAL\n",
      "Dev\n",
      "['65391503b5e8fb35b69ca91d']\n",
      "[]\n"
     ]
    }
   ],
   "source": [
    "print(get_member_id_by_mail(input_mail))\n",
    "print(get_member_nom_by_mail(input_mail))\n",
    "print(get_member_prenom_by_mail(input_mail))\n",
    "print(get_member_poste_by_mail(input_mail))\n",
    "print(get_member_task_by_mail(input_mail))\n",
    "print(get_member_project_by_mail(input_mail))\n"
   ]
  },
  {
   "cell_type": "code",
   "execution_count": null,
   "metadata": {},
   "outputs": [],
   "source": [
    "def set_member_update_task(input_mail):\n",
    "    try:\n",
    "        filter = { 'Mail': input_mail }\n",
    "        newvalues = { \"$push\": { 'Taches': \"65391503b5e8fb35b69ca91d\" } } \n",
    "        update_task = collection.update_one(filter, newvalues) \n",
    "        return update_task.modified_count\n",
    "    \n",
    "    except Exception as e:\n",
    "        print(f\"Erreur : {e}\")"
   ]
  },
  {
   "cell_type": "code",
   "execution_count": 35,
   "metadata": {},
   "outputs": [
    {
     "name": "stdout",
     "output_type": "stream",
     "text": [
      "liste de projet est vide\n"
     ]
    }
   ],
   "source": [
    "if len(get_member_task_by_mail(input_mail)) == 0 :\n",
    "    print(\"liste de tache est vide\")\n",
    "    set_member_update_task(input_mail)\n",
    "\n",
    "if len(get_member_project_by_mail(input_mail)) == 0 :\n",
    "    print(\"liste de projet est vide\")"
   ]
  },
  {
   "cell_type": "code",
   "execution_count": null,
   "metadata": {},
   "outputs": [],
   "source": [
    "def delete_member(input_mail):\n",
    "    try:\n",
    "        filtre_member = {'Mail' : input_mail}\n",
    "        delete = collection.find_one_and_delete(filtre_member, projection = None, sort = None)\n",
    "        return delete\n",
    "    \n",
    "    except Exception as e:\n",
    "        print(f\"Erreur : {e}\")"
   ]
  },
  {
   "cell_type": "code",
   "execution_count": null,
   "metadata": {},
   "outputs": [],
   "source": [
    "print(delete_member(input_mail))"
   ]
  },
  {
   "cell_type": "code",
   "execution_count": null,
   "metadata": {},
   "outputs": [],
   "source": []
  }
 ],
 "metadata": {
  "kernelspec": {
   "display_name": "Python 3",
   "language": "python",
   "name": "python3"
  },
  "language_info": {
   "codemirror_mode": {
    "name": "ipython",
    "version": 3
   },
   "file_extension": ".py",
   "mimetype": "text/x-python",
   "name": "python",
   "nbconvert_exporter": "python",
   "pygments_lexer": "ipython3",
   "version": "3.12.0"
  }
 },
 "nbformat": 4,
 "nbformat_minor": 2
}
